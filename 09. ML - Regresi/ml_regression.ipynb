{
 "cells": [
  {
   "cell_type": "markdown",
   "metadata": {
    "slideshow": {
     "slide_type": "slide"
    }
   },
   "source": [
    "# Regression\n",
    "\n",
    "Dalam notebook ini, kita akan membahas salah satu \"tugas\" dalam machine learning yang termasuk dalam supervised learning, yaitu regresi. Kita akan coba belajar dengan pendekatan top-down dengan mencoba implementasinya dalam Python terlebih dahulu, lalu memahami intuisi regresi yang sudah diimplementasi tersebut."
   ]
  },
  {
   "cell_type": "markdown",
   "metadata": {
    "slideshow": {
     "slide_type": "subslide"
    }
   },
   "source": [
    "## Outline\n",
    "\n",
    "* Review Machine Learning & Supervised Learning\n",
    "* Regression\n",
    "    * Simple Linear Regression\n",
    "    * Regression Metrics\n",
    "    * Multivarable Linear Regression\n",
    "* Takeaways"
   ]
  },
  {
   "cell_type": "markdown",
   "metadata": {
    "slideshow": {
     "slide_type": "slide"
    }
   },
   "source": [
    "## Machine Learning & Supervised Learning\n",
    "\n",
    "Dari sekian banyak definisi machine learning, yang paling relevan (mungkin) adalah sebuah mesin/sistem yang belajar dari sebuah pengalaman $E$ untuk suatu tugas $T$ yang diukur oleh suatu ukuran kuantitatif $P$. Suatu mesin dikatakan belajar jika output yang dihasilkan untuk tugas $T$ tersebut, yang diukur oleh $P$, semakin baik dari pengalaman $E$.\n",
    "\n",
    "> Definisi ini diturunkan dari definisi machine learning oleh [Tom Mitchell](https://www.cs.cmu.edu/~tom/mlbook.html)"
   ]
  },
  {
   "cell_type": "markdown",
   "metadata": {
    "slideshow": {
     "slide_type": "subslide"
    }
   },
   "source": [
    "## Regression\n",
    "\n",
    "Algoritma machine learning dapat dibedakan menjadi 2 jenis berdasarkan *experience* algoritma tersebut dalam memproses data selama proses pembelajaran (training), yaitu **supervised learning** dan **unsupervised learning**. Regresi merupakan salah satu task yang termasuk dalam supervised learning.\n",
    "\n",
    "Regresi, dalam machine learning, merupakan suatu task yang mencoba memprediksi suatu nilai real dari suatu input.\n",
    "\n",
    "[*Source*](https://www.deeplearningbook.org/contents/ml.html)"
   ]
  },
  {
   "cell_type": "markdown",
   "metadata": {
    "slideshow": {
     "slide_type": "slide"
    }
   },
   "source": [
    "## Simple Linear Regression\n",
    "\n",
    "Pertama, kita akan membuat model linear regression untuk memprediksi harga rumah menggunakan data [berikut](https://drive.google.com/drive/folders/18rjxjQxcq-qEM3MHRi340lVtm4kw4jqw?usp=sharing) yang diambil dari [Kaggle](https://www.kaggle.com/c/house-prices-advanced-regression-techniques/data)."
   ]
  },
  {
   "cell_type": "code",
   "execution_count": null,
   "metadata": {
    "slideshow": {
     "slide_type": "subslide"
    }
   },
   "outputs": [],
   "source": [
    "# import things\n",
    "import matplotlib.pyplot as plt\n",
    "import numpy as np\n",
    "import pandas as pd\n",
    "import seaborn as sns\n",
    "from sklearn.linear_model import LinearRegression"
   ]
  },
  {
   "cell_type": "code",
   "execution_count": null,
   "metadata": {
    "slideshow": {
     "slide_type": "slide"
    }
   },
   "outputs": [],
   "source": [
    "df_houses_train = pd.read_csv(\"data/house-price/train.csv\")\n",
    "num_train, num_feat = df_houses_train.shape\n",
    "\n",
    "df_houses_test = pd.read_csv(\"data/house-price/test.csv\")\n",
    "num_test, _ = df_houses_test.shape\n",
    "\n",
    "print(\"Jumlah data train:\", num_train)\n",
    "print(\"Jumlah data test:\", num_test)\n",
    "print(\"Jumlah fitur:\", num_feat)"
   ]
  },
  {
   "cell_type": "code",
   "execution_count": null,
   "metadata": {
    "scrolled": true,
    "slideshow": {
     "slide_type": "fragment"
    }
   },
   "outputs": [],
   "source": [
    "df_houses_train.head()"
   ]
  },
  {
   "cell_type": "markdown",
   "metadata": {
    "slideshow": {
     "slide_type": "slide"
    }
   },
   "source": [
    "Pertama, kita akan coba memprediksi harga rumah yang direpresentasikan pada kolom `SalePrice` hanya dengan menggunakan fitur `GrLivArea`. Jenis linear regression yang hanya menggunakan 1 (satu) fitur (**independent variable**) untuk memprediksi suatu nilai target (**dependent variable**) adalah regresi linear sederhana atau dikenal juga dengan **univariate/simple linear regression**.\n",
    "\n",
    "Tapi, sebelum kita mendefinisikan model regresi linear menggunakan scikit-learn, kita coba plot relasi antara kedua variabel tersebut."
   ]
  },
  {
   "cell_type": "code",
   "execution_count": null,
   "metadata": {
    "slideshow": {
     "slide_type": "subslide"
    }
   },
   "outputs": [],
   "source": [
    "plt.figure(figsize=(8, 6))\n",
    "sns.scatterplot(x=\"GrLivArea\", y=\"SalePrice\", data=df_houses_train)\n",
    "plt.title(\"GrLivArea vs SalePrice\")\n",
    "plt.show()"
   ]
  },
  {
   "cell_type": "markdown",
   "metadata": {
    "slideshow": {
     "slide_type": "slide"
    }
   },
   "source": [
    "Sebagai awalan, kita akan coba menggunakan 30% dari training set yang diambil secara acak."
   ]
  },
  {
   "cell_type": "code",
   "execution_count": null,
   "metadata": {
    "scrolled": true,
    "slideshow": {
     "slide_type": "fragment"
    }
   },
   "outputs": [],
   "source": [
    "df_sample = df_houses_train[[\"GrLivArea\", \"SalePrice\"]].sample(frac=.3, random_state=11)\n",
    "\n",
    "plt.figure(figsize=(8, 6))\n",
    "sns.scatterplot(x=\"GrLivArea\", y=\"SalePrice\", data=df_sample)\n",
    "plt.title(\"30% of GrLivArea vs SalePrice\")\n",
    "plt.show()"
   ]
  },
  {
   "cell_type": "code",
   "execution_count": null,
   "metadata": {
    "slideshow": {
     "slide_type": "subslide"
    }
   },
   "outputs": [],
   "source": [
    "# X_train and y_train for our sample\n",
    "sample_X_train = df_sample[[\"GrLivArea\"]]\n",
    "sample_y_train = df_sample[[\"SalePrice\"]]"
   ]
  },
  {
   "cell_type": "code",
   "execution_count": null,
   "metadata": {
    "slideshow": {
     "slide_type": "fragment"
    }
   },
   "outputs": [],
   "source": [
    "# X_dev and y_dev for our sample\n",
    "sample_X_dev = df_houses_train.loc[~df_houses_train.index.isin(df_sample.index), [\"GrLivArea\"]]\n",
    "sample_y_dev = df_houses_train.loc[~df_houses_train.index.isin(df_sample.index), [\"SalePrice\"]]"
   ]
  },
  {
   "cell_type": "code",
   "execution_count": null,
   "metadata": {},
   "outputs": [],
   "source": [
    "sample_X_dev.shape[0], sample_X_train.shape[0], df_houses_train.shape[0]"
   ]
  },
  {
   "cell_type": "code",
   "execution_count": null,
   "metadata": {},
   "outputs": [],
   "source": [
    "assert (sample_X_dev.shape[0] + sample_X_train.shape[0]) == df_houses_train.shape[0]\n",
    "assert (sample_y_dev.shape[0] + sample_y_train.shape[0]) == df_houses_train.shape[0]"
   ]
  },
  {
   "cell_type": "markdown",
   "metadata": {
    "slideshow": {
     "slide_type": "slide"
    }
   },
   "source": [
    "Setelah kita menyiapkan semuanya, kita mulai mendefinisikan model dan melatihnya."
   ]
  },
  {
   "cell_type": "code",
   "execution_count": null,
   "metadata": {
    "slideshow": {
     "slide_type": "fragment"
    }
   },
   "outputs": [],
   "source": [
    "linreg = LinearRegression()\n",
    "linreg.fit(sample_X_train, sample_y_train)\n",
    "sample_y_pred = linreg.predict(sample_X_train)\n",
    "sample_y_pred_dev = linreg.predict(sample_X_dev)"
   ]
  },
  {
   "cell_type": "markdown",
   "metadata": {
    "slideshow": {
     "slide_type": "slide"
    }
   },
   "source": [
    "## Metrics\n",
    "\n",
    "Sesuai dengan definisi machine learning di awal, kita memerlukan suatu ukuran kuantitatif untuk menentukan \"kinerja\" dari suatu model, yang dikenal dengan **metrics**. Metrics bekerja dengan membandingkan hasil prediksi dari model dengan target sebenarnya. Umumnya, pemilihan metrics sangat bergantung oleh task yang sedang dikerjakan.\n",
    "\n",
    "Beberapa metrics yang sering digunakan dalam untuk masalah regresi:\n",
    "* MAE - Mean Absolute Error\n",
    "* MSE - Mean Squared Error\n",
    "* RMSE - Root Mean Squared Error\n",
    "* $R^2$ (R-squared)\n",
    "\n",
    "Scikit-learn sudah menyediakan beberapa metrics di atas dan lainnya yang sering digunakan."
   ]
  },
  {
   "cell_type": "code",
   "execution_count": null,
   "metadata": {
    "slideshow": {
     "slide_type": "subslide"
    }
   },
   "outputs": [],
   "source": [
    "from sklearn.metrics import mean_squared_error, mean_absolute_error, r2_score\n",
    "\n",
    "mae_score = mean_absolute_error(sample_y_train, sample_y_pred)\n",
    "mse_score = mean_squared_error(sample_y_train, sample_y_pred)\n",
    "rsquared_score = r2_score(sample_y_train, sample_y_pred)\n",
    "rmse_score = np.sqrt(mse_score)\n",
    "\n",
    "print(\"MAE score:\", mae_score)\n",
    "print(\"MSE score:\", mse_score)\n",
    "print(\"RMSE score:\", rmse_score)\n",
    "print(\"R-squared score:\", rsquared_score)"
   ]
  },
  {
   "cell_type": "code",
   "execution_count": null,
   "metadata": {
    "slideshow": {
     "slide_type": "fragment"
    }
   },
   "outputs": [],
   "source": [
    "# TODO: define mae_score, mse_score, rmse_score, and rsquared_score for dev set\n",
    "# ... HERE ...\n",
    "\n",
    "print(\"MAE score for dev set:\", mae_score_dev)\n",
    "print(\"MSE score for dev set:\", mse_score_dev)\n",
    "print(\"RMSE score for dev set:\", rmse_score_dev)\n",
    "print(\"R-squared score for dev set:\", rsquared_score_dev)"
   ]
  },
  {
   "cell_type": "markdown",
   "metadata": {
    "slideshow": {
     "slide_type": "slide"
    }
   },
   "source": [
    "## Regression Metrics"
   ]
  },
  {
   "cell_type": "markdown",
   "metadata": {
    "slideshow": {
     "slide_type": "subslide"
    }
   },
   "source": [
    "### Mean Absolute Error\n",
    "\n",
    "MAE atau Mean Absolute Error adalah metric dalam task regresi yang (mungkin) paling sederhana. Kita hanya menghitung **rata-rata dari selisih antara hasil prediksi dan target**. Untuk mencegah selisih bernilai negatif, maka diambil nilai mutlak (oleh karena itu, *absolute*) dari tiap selisihnya.\n",
    "\n",
    "<img src=\"https://i.imgur.com/BmBC8VW.jpg\" style=\"width: 50%\"/>\n",
    "<a href=\"https://www.dataquest.io/blog/understanding-regression-error-metrics/\">Source</a>\n",
    "\n",
    "Karena menggunakan nilai mutlak, salah satu karakteristik dari metric ini adalah kurang sensitif terhadap *underestimate* dan *overestimate* hasil prediksi.\n",
    "\n",
    "<img src=\"https://i.imgur.com/tqnei6J.jpg\" style=\"width: 50%\"/>\n",
    "<a href=\"https://www.dataquest.io/blog/understanding-regression-error-metrics/\">Source</a>"
   ]
  },
  {
   "cell_type": "markdown",
   "metadata": {
    "slideshow": {
     "slide_type": "subslide"
    }
   },
   "source": [
    "### Mean Square Error\n",
    "\n",
    "MSE atau Mean Squared Error adalah metric yang paling populer digunakan untuk masalah regresi. Perbedaaan MSE dengan MAE adalah MSE menguadratkan selisih antara hasil prediksi dan target.\n",
    "\n",
    "<img src=\"https://i.imgur.com/vB3UAiH.jpg\" style=\"width: 50%\"/>\n",
    "<a href=\"https://www.dataquest.io/blog/understanding-regression-error-metrics/\">Source</a>\n",
    "\n",
    "Karena sifat kuadrat, maka MSE pasti akan lebih besar daripada MAE. Oleh karena ini, tidak adil jika kita membandingkan MSE dan MAE secara langsung (kecuali untuk membandingkan beberapa model).\n",
    "\n",
    "<img src=\"https://i.imgur.com/mLn8AeW.jpg\" style=\"width: 50%\"/>\n",
    "<a href=\"https://www.dataquest.io/blog/understanding-regression-error-metrics/\">Source</a>\n",
    "\n",
    "Dari gambar di atas, MSE akan memberikan nilai error yang jauh lebih besar dibandingkan dengan MAE untuk prediksi yang sangat berbeda dengan target atau juga untuk outliers.\n",
    "\n",
    "> \"Ultimately, the choice between is MSE and MAE is application-specific and depends on how you want to treat large errors.\" - [dataquest](https://www.dataquest.io/blog/understanding-regression-error-metrics/)"
   ]
  },
  {
   "cell_type": "markdown",
   "metadata": {
    "slideshow": {
     "slide_type": "subslide"
    }
   },
   "source": [
    "### R-squared ($R^2$)\n",
    "\n",
    "R-squared adalah suatu ukuran statistik yang merepresentasikan **seberapa besar variasi dalam dependent variable (target) yang dapat diwakili/dijelaskan oleh independent variable (input)**. ([*source*](https://www.investopedia.com/terms/r/r-squared.asp))\n",
    "\n",
    "> Sebagai contoh, nilai $R^2 = 0.5$ berarti sekitar 50% variance dari variabel target dapat dijelaskan oleh model kita\n",
    "\n",
    "Secara matematis, $R^2$ dihitung dengan persamaan:\n",
    "\n",
    "![](https://wikimedia.org/api/rest_v1/media/math/render/svg/aec2d91094ee54fbf0f7912d329706ff016ec1bd)\n",
    "![](https://wikimedia.org/api/rest_v1/media/math/render/svg/2669c9340581d55b274d3b8ea67a7deb2225510b)\n",
    "$$\n",
    "R^2 = \\frac{SS_{tot} - SS_{res}}{SS_{tot}} = 1 - \\frac{SS_{res}}{SS_{tot}}\n",
    "$$\n",
    "\n",
    "Sederhananya, $R^2$ membandingkan model kita dengan *base* model yang merupakan rata-rata dari variabel target.\n",
    "<img src=\"img/rsquared.png\" style=\"width: 50%\"/>\n",
    "[*source*](https://www.h2o.ai/blog/regression-metrics-guide/)"
   ]
  },
  {
   "cell_type": "markdown",
   "metadata": {
    "slideshow": {
     "slide_type": "subslide"
    }
   },
   "source": [
    "### Your Turn!\n",
    "\n",
    "Jika dilihat dari hasil $R^2$ dari dev set sebelumnya, bagaimana performa model kita yang hanya menggunakan 30% data?"
   ]
  },
  {
   "cell_type": "markdown",
   "metadata": {
    "slideshow": {
     "slide_type": "subslide"
    }
   },
   "source": [
    "Sekarang, layaknya proses training model machine learning pada umumnya, kita akan melatih sebuah model regresi linear dengan 80% data train dan mengujinya menggunakan 20% data train yang lainnya."
   ]
  },
  {
   "cell_type": "code",
   "execution_count": null,
   "metadata": {
    "slideshow": {
     "slide_type": "fragment"
    }
   },
   "outputs": [],
   "source": [
    "from sklearn.model_selection import train_test_split\n",
    "\n",
    "X = df_houses_train[[\"GrLivArea\"]]\n",
    "y = df_houses_train[[\"SalePrice\"]]\n",
    "X_train, X_dev, y_train, y_dev = train_test_split(X, y, train_size=.8, random_state=11)\n",
    "\n",
    "print(\"Training set size:\", X_train.shape[0])\n",
    "print(\"Dev set size:\", X_dev.shape[0])"
   ]
  },
  {
   "cell_type": "code",
   "execution_count": null,
   "metadata": {
    "slideshow": {
     "slide_type": "subslide"
    }
   },
   "outputs": [],
   "source": [
    "print(X_train[:5], y_train[:5], sep=\"\\n\")\n",
    "print(X_dev[:5], y_dev[:5], sep=\"\\n\")"
   ]
  },
  {
   "cell_type": "markdown",
   "metadata": {
    "slideshow": {
     "slide_type": "subslide"
    }
   },
   "source": [
    "Berikutnya, kita coba definisikan model dan mulai melatihnya."
   ]
  },
  {
   "cell_type": "code",
   "execution_count": null,
   "metadata": {
    "slideshow": {
     "slide_type": "fragment"
    }
   },
   "outputs": [],
   "source": [
    "lr = LinearRegression()\n",
    "lr.fit(X_train, y_train)"
   ]
  },
  {
   "cell_type": "code",
   "execution_count": null,
   "metadata": {
    "slideshow": {
     "slide_type": "fragment"
    }
   },
   "outputs": [],
   "source": [
    "# TODO: predict for train and dev set\n",
    "#       assign them as `y_pred_train` and `y_pred_dev`\n",
    "# ... HERE ..."
   ]
  },
  {
   "cell_type": "code",
   "execution_count": null,
   "metadata": {
    "slideshow": {
     "slide_type": "fragment"
    }
   },
   "outputs": [],
   "source": [
    "# TODO: define mae_score, mse_score, rmse_score, and rsquared_score\n",
    "#       both for train and dev set\n",
    "# ... HERE ...\n",
    "\n",
    "print(\"MAE score:\", mae_score)\n",
    "print(\"MSE score:\", mse_score)\n",
    "print(\"RMSE score:\", rmse_score)\n",
    "print(\"R-squared score:\", rsquared_score)\n",
    "\n",
    "# ... HERE ...\n",
    "\n",
    "print(\"\\nMAE score for dev set:\", mae_score_dev)\n",
    "print(\"MSE score for dev set:\", mse_score_dev)\n",
    "print(\"RMSE score for dev set:\", rmse_score_dev)\n",
    "print(\"R-squared score for dev set:\", rsquared_score_dev)"
   ]
  },
  {
   "cell_type": "markdown",
   "metadata": {
    "slideshow": {
     "slide_type": "slide"
    }
   },
   "source": [
    "Untuk melihat bagaimana bentuk fisik dari model regresi linear yang sudah kita latih, kita bisa membuat plot untuk masing-masing training dan dev set."
   ]
  },
  {
   "cell_type": "code",
   "execution_count": null,
   "metadata": {
    "slideshow": {
     "slide_type": "fragment"
    }
   },
   "outputs": [],
   "source": [
    "plt.figure(figsize=(14, 6))\n",
    "\n",
    "ax1 = plt.subplot(121)\n",
    "sns.scatterplot(X_train.values.flatten(), y_train.values.flatten(), ax=ax1)\n",
    "sns.lineplot(X_train.values.flatten(), y_pred_train.flatten(), ax=ax1, color=\"orange\")\n",
    "plt.title(\"Fitting Line in Training Set\")\n",
    "plt.ylabel(\"SalePrice\")\n",
    "plt.xlabel(\"GrLivArea\")\n",
    "\n",
    "ax2 = plt.subplot(122, sharey=ax1, sharex=ax1)\n",
    "sns.scatterplot(X_dev.values.flatten(), y_dev.values.flatten(), ax=ax2)\n",
    "sns.lineplot(X_dev.values.flatten(), y_pred_dev.flatten(), ax=ax2, color=\"orange\")\n",
    "plt.title(\"Fitting Line in Dev Set\")\n",
    "\n",
    "plt.ylabel(\"SalePrice\")\n",
    "plt.xlabel(\"GrLivArea\")\n",
    "plt.show()"
   ]
  },
  {
   "cell_type": "code",
   "execution_count": null,
   "metadata": {
    "slideshow": {
     "slide_type": "subslide"
    }
   },
   "outputs": [],
   "source": [
    "print(\"Model parameters:\\n\", lr.coef_)\n",
    "print(\"Model bias:\\n\", lr.intercept_)"
   ]
  },
  {
   "cell_type": "code",
   "execution_count": null,
   "metadata": {},
   "outputs": [],
   "source": [
    "lr.predict([[1.]])"
   ]
  },
  {
   "cell_type": "markdown",
   "metadata": {
    "slideshow": {
     "slide_type": "fragment"
    }
   },
   "source": [
    "`coef_` dan `intercept_` adalah parameter yang sebenarnya dilatih saat proses training model regresi linear. Jumlah parameter ($\\theta$) model bergantung pada jumlah fitur yang kita gunakan. Karena kita univaraite linear regression berarti hanya menggunakan satu variabel/fitur saja, maka kita hanya melatih satu parameter saja (dan bias)."
   ]
  },
  {
   "cell_type": "markdown",
   "metadata": {
    "slideshow": {
     "slide_type": "slide"
    }
   },
   "source": [
    "## Multivariate Linear Regression"
   ]
  },
  {
   "cell_type": "markdown",
   "metadata": {
    "slideshow": {
     "slide_type": "fragment"
    }
   },
   "source": [
    "Jika univariate/simple linear regression hanya menggunakann satu variabel/fitur, maka multivariabel linear regression atau **multivariable regression** menggunakan beberapa variabel untuk memprediksi suatu nilai target.\n",
    "\n",
    "Meski menggunakan lebih dari satu variabel, seperti univariate linear regression, relasi antara keseluruhan variabel terhadap target tetap **linear**. Jika univariate linear regression memiliki bentuk fungsi umum $y = \\theta_0 + \\theta_1 x$, maka multivariate linear regression juga memiliki fungsi umum yang sama (berderajat 1) seperti berikut:\n",
    "\n",
    "$$\n",
    "y = \\theta_0 + \\theta_1x_1 + \\theta_2x_2 + \\ldots + \\theta_nx_n\n",
    "$$"
   ]
  },
  {
   "cell_type": "markdown",
   "metadata": {
    "slideshow": {
     "slide_type": "fragment"
    }
   },
   "source": [
    "Dengan masih menggunakan data yang sama, kita akan memilih beberapa variabel yang akan digunakan sebagai fitur input model multivariate linear regression kita."
   ]
  },
  {
   "cell_type": "code",
   "execution_count": null,
   "metadata": {
    "slideshow": {
     "slide_type": "slide"
    }
   },
   "outputs": [],
   "source": [
    "df_corr = df_houses_train.corr()\n",
    "\n",
    "plt.figure(figsize=(10, 7))\n",
    "sns.heatmap(df_corr, square=True)\n",
    "plt.show()"
   ]
  },
  {
   "cell_type": "code",
   "execution_count": null,
   "metadata": {
    "slideshow": {
     "slide_type": "subslide"
    }
   },
   "outputs": [],
   "source": [
    "n_largest = 10\n",
    "cols = df_corr.nlargest(n_largest, \"SalePrice\")[\"SalePrice\"].index\n",
    "\n",
    "plt.figure(figsize=(10, 7))\n",
    "sns.heatmap(\n",
    "    df_houses_train[cols].corr(),\n",
    "    annot=True,\n",
    "    square=True\n",
    ")\n",
    "plt.show()"
   ]
  },
  {
   "cell_type": "markdown",
   "metadata": {
    "slideshow": {
     "slide_type": "subslide"
    }
   },
   "source": [
    "### Your Turn!\n",
    "\n",
    "Dari plot heatmap di atas, kira-kira fitur apa saja yang sebaiknya kita gunakan (dan yang tidak) sebagai fitur input model dan kenapa?"
   ]
  },
  {
   "cell_type": "code",
   "execution_count": null,
   "metadata": {
    "slideshow": {
     "slide_type": "slide"
    }
   },
   "outputs": [],
   "source": [
    "chosen_cols = [\n",
    "    \"OverallQual\", \"GrLivArea\", \"GarageCars\",\n",
    "    \"TotalBsmtSF\", \"FullBath\",\n",
    "    \"YearBuilt\", \"SalePrice\"\n",
    "]\n",
    "df_train = df_houses_train[chosen_cols]\n",
    "df_train.head()"
   ]
  },
  {
   "cell_type": "code",
   "execution_count": null,
   "metadata": {
    "slideshow": {
     "slide_type": "slide"
    }
   },
   "outputs": [],
   "source": [
    "X = df_train.drop(columns=[\"SalePrice\"])\n",
    "y = df_train[[\"SalePrice\"]]"
   ]
  },
  {
   "cell_type": "code",
   "execution_count": null,
   "metadata": {
    "scrolled": true,
    "slideshow": {
     "slide_type": "fragment"
    }
   },
   "outputs": [],
   "source": [
    "# TODO: split X and y into X_train, X_dev, y_train, and y_dev\n",
    "# ... HERE ...\n",
    "\n",
    "print(\"Training set size:\", X_train.shape[0])\n",
    "print(\"Dev set size:\", X_dev.shape[0])"
   ]
  },
  {
   "cell_type": "code",
   "execution_count": null,
   "metadata": {
    "slideshow": {
     "slide_type": "fragment"
    }
   },
   "outputs": [],
   "source": [
    "# TODO: define and train model `mlr`\n",
    "# ... HERE ...\n",
    "\n",
    "# TODO: predict for train and dev set\n",
    "#       assign them as `y_pred_train` and `y_pred_dev`\n",
    "# ... HERE ...\n",
    "\n",
    "# TODO: define mae_score, mse_score, rmse_score, and rsquared_score\n",
    "#       both for train and dev set\n",
    "# ... HERE ...\n",
    "\n",
    "print(\"MAE score:\", mae_score)\n",
    "print(\"MSE score:\", mse_score)\n",
    "print(\"RMSE score:\", rmse_score)\n",
    "print(\"R-squared score:\", rsquared_score)\n",
    "\n",
    "# ... HERE ...\n",
    "\n",
    "print(\"\\nMAE score for dev set:\", mae_score_dev)\n",
    "print(\"MSE score for dev set:\", mse_score_dev)\n",
    "print(\"RMSE score for dev set:\", rmse_score_dev)\n",
    "print(\"R-squared score for dev set:\", rsquared_score_dev)"
   ]
  },
  {
   "cell_type": "code",
   "execution_count": null,
   "metadata": {},
   "outputs": [],
   "source": [
    "print(\"mlr parameters:\", mlr.coef_)\n",
    "print(\"mlr bias:\", mlr.intercept_)"
   ]
  },
  {
   "cell_type": "markdown",
   "metadata": {
    "slideshow": {
     "slide_type": "-"
    }
   },
   "source": [
    "Dari metrics di atas, seharusnya ada peningkatan performa yang cukup signifikan dari model yang menggunakan beberapa variabel sebagai fitur input."
   ]
  },
  {
   "cell_type": "markdown",
   "metadata": {
    "slideshow": {
     "slide_type": "slide"
    }
   },
   "source": [
    "## Takeaways\n",
    "\n",
    "* Regresi adalah salah satu task dalam supervised machine learninng yang mencoba memprediksi suatu nilai dalam domain bilangan real\n",
    "* Berdasarkan jumlah variabel yang digunakan, linear regression dikategorikan sebagai univariate/simple linear regression jika hanya menggunakan satu variabel, dan multivariate linear regressioin jika menggunakan lebih dari satu variabel\n",
    "* Beberapa metrics yang sering digunakan dalam masalah regresi adalah:\n",
    "    * Mean Absolute Error (MAE)\n",
    "    * Mean Squared Error (MSE)\n",
    "    * Root Mean Squared Error (RMSE)\n",
    "    * R squared ($R^2$)\n",
    "* Dalam class `LinearRegression` dari scikit-learn, kita bisa mendapatkan parameter model regresi linear dari atribut `coef_` dan `intercept_` yang secara berturut-turut merepresentasikan nilai bobot/weights dan bias model.\n",
    "* What next?\n",
    "    * Regularization\n",
    "    * Optimizing Linear Regression\n",
    "    * Polynomial Regression"
   ]
  }
 ],
 "metadata": {
  "celltoolbar": "Slideshow",
  "kernelspec": {
   "display_name": "Python 3",
   "language": "python",
   "name": "python3"
  },
  "language_info": {
   "codemirror_mode": {
    "name": "ipython",
    "version": 3
   },
   "file_extension": ".py",
   "mimetype": "text/x-python",
   "name": "python",
   "nbconvert_exporter": "python",
   "pygments_lexer": "ipython3",
   "version": "3.7.7"
  }
 },
 "nbformat": 4,
 "nbformat_minor": 4
}
